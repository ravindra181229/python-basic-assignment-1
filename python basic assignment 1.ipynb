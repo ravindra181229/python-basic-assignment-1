{
 "cells": [
  {
   "cell_type": "code",
   "execution_count": 1,
   "id": "d0c3cfed",
   "metadata": {},
   "outputs": [],
   "source": [
    "#1Q\n",
    "#values are 'hello' , 6\n",
    "#expressions are  * , - , / , + , -87.8"
   ]
  },
  {
   "cell_type": "code",
   "execution_count": 2,
   "id": "e18f378b",
   "metadata": {},
   "outputs": [],
   "source": [
    "#2Q\n",
    "#the difference between string and variable is \n",
    "#string contains text which start and end with single or double code character\n",
    "#and values can be stored in variables\n"
   ]
  },
  {
   "cell_type": "code",
   "execution_count": 4,
   "id": "df4de9ee",
   "metadata": {},
   "outputs": [
    {
     "data": {
      "text/plain": [
       "''"
      ]
     },
     "execution_count": 4,
     "metadata": {},
     "output_type": "execute_result"
    }
   ],
   "source": [
    "#3Q \n",
    "# the three different datatypes are integer,float,string\n",
    "int()\n",
    "float()\n",
    "str()"
   ]
  },
  {
   "cell_type": "code",
   "execution_count": 5,
   "id": "54f9b79a",
   "metadata": {},
   "outputs": [],
   "source": [
    "#4Q\n",
    "#expression is made up of values + operators and expression evaluates to one value"
   ]
  },
  {
   "cell_type": "code",
   "execution_count": 6,
   "id": "7fe881e1",
   "metadata": {},
   "outputs": [],
   "source": [
    "#5Q\n",
    "#expression evaluates to sinlgle value and statement dosen't evaluate to single value"
   ]
  },
  {
   "cell_type": "code",
   "execution_count": 7,
   "id": "466650ba",
   "metadata": {},
   "outputs": [
    {
     "data": {
      "text/plain": [
       "23"
      ]
     },
     "execution_count": 7,
     "metadata": {},
     "output_type": "execute_result"
    }
   ],
   "source": [
    "#6Q\n",
    "23"
   ]
  },
  {
   "cell_type": "code",
   "execution_count": 9,
   "id": "6de3ea07",
   "metadata": {},
   "outputs": [
    {
     "data": {
      "text/plain": [
       "'spamspamspam'"
      ]
     },
     "execution_count": 9,
     "metadata": {},
     "output_type": "execute_result"
    }
   ],
   "source": [
    "#7Q\n",
    "#string concatination\n",
    "'spam' + 'spamspam'\n"
   ]
  },
  {
   "cell_type": "code",
   "execution_count": 10,
   "id": "e0d3dff6",
   "metadata": {},
   "outputs": [
    {
     "data": {
      "text/plain": [
       "'spamspamspam'"
      ]
     },
     "execution_count": 10,
     "metadata": {},
     "output_type": "execute_result"
    }
   ],
   "source": [
    "#7Q\n",
    "#string replication\n",
    "'spam' * 3"
   ]
  },
  {
   "cell_type": "code",
   "execution_count": 11,
   "id": "3b4b0598",
   "metadata": {},
   "outputs": [],
   "source": [
    "#8Q\n",
    "#because eggs name starts with character while 100 name starts with integer"
   ]
  },
  {
   "cell_type": "code",
   "execution_count": 12,
   "id": "649c4b6c",
   "metadata": {},
   "outputs": [
    {
     "data": {
      "text/plain": [
       "''"
      ]
     },
     "execution_count": 12,
     "metadata": {},
     "output_type": "execute_result"
    }
   ],
   "source": [
    "#9Q\n",
    "int()\n",
    "float()\n",
    "str()"
   ]
  },
  {
   "cell_type": "code",
   "execution_count": 14,
   "id": "bbad26ed",
   "metadata": {},
   "outputs": [
    {
     "data": {
      "text/plain": [
       "'i have eaten 99 burritos'"
      ]
     },
     "execution_count": 14,
     "metadata": {},
     "output_type": "execute_result"
    }
   ],
   "source": [
    "#10Q\n",
    "# 'i have eaten' and 'burritos' is str() type while 99 is int() type\n",
    "# so we can fix this by assigning 99 as str() type or 'i have eaten' and 'burritos' to int() type\n",
    "'i have eaten' + ' 99' + ' burritos'"
   ]
  },
  {
   "cell_type": "code",
   "execution_count": null,
   "id": "a4ec7461",
   "metadata": {},
   "outputs": [],
   "source": []
  }
 ],
 "metadata": {
  "kernelspec": {
   "display_name": "Python 3",
   "language": "python",
   "name": "python3"
  },
  "language_info": {
   "codemirror_mode": {
    "name": "ipython",
    "version": 3
   },
   "file_extension": ".py",
   "mimetype": "text/x-python",
   "name": "python",
   "nbconvert_exporter": "python",
   "pygments_lexer": "ipython3",
   "version": "3.8.8"
  }
 },
 "nbformat": 4,
 "nbformat_minor": 5
}
